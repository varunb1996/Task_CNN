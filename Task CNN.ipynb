
  },
  {
   "cell_type": "markdown",
   "metadata": {},
   "source": [
    "### Technical Information\n",
    "<u>Gas meters</u>\n",
    "\n",
    "Gas meters visually show the gas consumption of a heating system with a mechanical display. To digitize the consumption of heating systems, cameras have been installed to take pictures of the gas meters in set periods. To be able to actually use this data, the consumption values have to be extracted from the images. \n",
    "\n",
    "Gas meters show the consumption of gas in m³. The last digits (often marked by a red border) are decimal digits.\n",
    "\n",
    "<u>Additional technical information that might be useful for the task:</u>\n",
    "- the consumption value of a specific gas meters can only increase over time, unless it \"overflows\" and starts over at 0.\n",
    "- due to its mechanical nature the display might show parts of two different digits at the same time\n",
    "- the image quality can vary greatly depending on lighting, distance, or dislocation of the camera\n",
    "    - the counter might be partially out of frame, blurred or very dark\n",
    "    - it is recommended to look at the images before starting the task"
   ]
  },
  {
   "cell_type": "markdown",
   "metadata": {},
   "source": [
    "### Task\n",
    "You are given ~50 images of 7 different gas meters in different scenarios. Your task is to write a script that takes an image as the input and returns the value shown in the picture. Also return an Error, when no value can be read. You are allowed to give additional results or implent functions that you think are helpful or could improve the results.\n",
    "\n",
    "We have given a small code snippet on how the results should be returned. Feel free to use any libraries to complete the task. You are allowed to use pre-trained models. "
   ]
  },
  {
   "cell_type": "code",
   "execution_count": 8,
   "metadata": {},
   "outputs": [
    {
     "name": "stderr",
     "output_type": "stream",
     "text": [
      "INFO:gas_meter_reader:Processing image: Counter1/05 Counter1.jpg\n",
      "INFO:gas_meter_reader:Initializing GasMeterReader...\n",
      "WARNING:easyocr.easyocr:Neither CUDA nor MPS are available - defaulting to CPU. Note: This module is much faster with a GPU.\n",
      "INFO:gas_meter_reader:EasyOCR reader initialized\n",
      "INFO:gas_meter_reader:ROI parameters set: {'x': 0.1, 'y': 0.2, 'width': 0.8, 'height': 0.6}\n",
      "INFO:gas_meter_reader:Successfully read image with shape: (356, 869, 3)\n",
      "INFO:gas_meter_reader:Extracting ROI...\n",
      "INFO:gas_meter_reader:Image dimensions: 869x356\n",
      "INFO:gas_meter_reader:ROI coordinates: x=86, y=71, w=695, h=213\n",
      "INFO:gas_meter_reader:Saved ROI debug image\n",
      "INFO:gas_meter_reader:ROI extracted with dimensions: (213, 695, 3)\n",
      "INFO:gas_meter_reader:Starting image preprocessing...\n",
      "INFO:gas_meter_reader:Converted to grayscale\n",
      "INFO:gas_meter_reader:Applied Gaussian blur\n",
      "INFO:gas_meter_reader:Applied adaptive thresholding\n",
      "INFO:gas_meter_reader:Applied morphological operations\n",
      "INFO:gas_meter_reader:Saved debug image\n",
      "INFO:gas_meter_reader:Starting OCR process...\n",
      "INFO:gas_meter_reader:Raw OCR results: [([[0, 96], [32, 96], [32, 124], [0, 124]], '[7', 0.046939907728108736), ([[50, 12], [100, 12], [100, 72], [50, 72]], '0', 0.8658705727632174), ([[83, 0], [615, 0], [615, 105], [83, 105]], '194633-9 21', 0.1826893821752792), ([[243, 121], [283, 121], [283, 137], [243, 137]], \"'W\", 0.33075018093263625), ([[335, 117], [367, 117], [367, 137], [335, 137]], '04', 0.10871289858285806)]\n",
      "INFO:gas_meter_reader:Combined text: [70194633-9 21'W04, Confidence: 0.30699258843641997\n",
      "INFO:gas_meter_reader:Cleaned text: 7019463392104\n",
      "INFO:gas_meter_reader:Validating reading: 7019463392104.0\n",
      "WARNING:gas_meter_reader:Value 7019463392104.0 is outside valid range\n",
      "ERROR:gas_meter_reader:Read value 7019463392104.0 is not valid for image: Counter1/05 Counter1.jpg\n",
      "ERROR:gas_meter_reader:Error processing image Counter1/05 Counter1.jpg: Invalid meter reading\n"
     ]
    },
    {
     "name": "stdout",
     "output_type": "stream",
     "text": [
      "Error: Could not read meter value: Invalid meter reading\n"
     ]
    }
   ],
   "source": [
    "from gas_meter_reader import read_consumption\n",
    "\n",
    "def read_consumption_from_image(image):\n",
    "    value = read_consumption(image)\n",
    "    return value\n",
    "\n",
    "try:\n",
    "\timage_path = \"Counter1/05 Counter1.jpg\"\n",
    "\tvalue = read_consumption_from_image(image_path)\n",
    "\tprint(f\"Read value: {value}\")\n",
    "except Exception as e:\n",
    "\tprint(f\"Error: {str(e)}\")"
   ]
  },
  {
   "cell_type": "code",
   "execution_count": null,
   "metadata": {},
   "outputs": [],
   "source": []
  }
 ],
 "metadata": {
  "kernelspec": {
   "display_name": "Python 3 (dl)",
   "language": "python",
   "name": "dl"
  },
  "language_info": {
   "codemirror_mode": {
    "name": "ipython",
    "version": 3
   },
   "file_extension": ".py",
   "mimetype": "text/x-python",
   "name": "python",
   "nbconvert_exporter": "python",
   "pygments_lexer": "ipython3",
   "version": "3.11.5"
  }
 },
 "nbformat": 4,
 "nbformat_minor": 2
}
